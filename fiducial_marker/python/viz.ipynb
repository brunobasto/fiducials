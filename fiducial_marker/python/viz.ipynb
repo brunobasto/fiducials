{
 "cells": [
  {
   "cell_type": "markdown",
   "id": "a67a9b7d",
   "metadata": {},
   "source": [
    "### Check the image generation output"
   ]
  },
  {
   "cell_type": "code",
   "execution_count": null,
   "id": "3efe6f17",
   "metadata": {},
   "outputs": [],
   "source": [
    "import cv2\n",
    "import numpy as np\n",
    "import matplotlib.pyplot as plt"
   ]
  },
  {
   "cell_type": "code",
   "execution_count": null,
   "id": "dc00018b",
   "metadata": {},
   "outputs": [],
   "source": [
    "index = 0\n",
    "img = plt.imread(f'synthetic_data/synthetic_image_{str(index)}.png')\n",
    "with open(f'synthetic_data/synthetic_image_{str(index)}.txt') as f:\n",
    "    labels = [float(x) for x in f.readline().split(' ')]\n",
    "    \n",
    "x1 = int((labels[1] - labels[3]/2)*img.shape[1])\n",
    "y1 = int((labels[2] - labels[4]/2)*img.shape[0])\n",
    "x2 = int((labels[1] + labels[3]/2)*img.shape[1])\n",
    "y2 = int((labels[2] + labels[4]/2)*img.shape[0])\n",
    "\n",
    "img = cv2.rectangle(img, (x1, y1), (x2, y2), (255, 0, 0), 3)\n",
    "\n",
    "plt.imshow(img)"
   ]
  },
  {
   "cell_type": "code",
   "execution_count": null,
   "id": "0c3baf57",
   "metadata": {},
   "outputs": [],
   "source": []
  }
 ],
 "metadata": {
  "kernelspec": {
   "display_name": "Python 3 (ipykernel)",
   "language": "python",
   "name": "python3"
  },
  "language_info": {
   "codemirror_mode": {
    "name": "ipython",
    "version": 3
   },
   "file_extension": ".py",
   "mimetype": "text/x-python",
   "name": "python",
   "nbconvert_exporter": "python",
   "pygments_lexer": "ipython3",
   "version": "3.9.13"
  },
  "varInspector": {
   "cols": {
    "lenName": 16,
    "lenType": 16,
    "lenVar": 40
   },
   "kernels_config": {
    "python": {
     "delete_cmd_postfix": "",
     "delete_cmd_prefix": "del ",
     "library": "var_list.py",
     "varRefreshCmd": "print(var_dic_list())"
    },
    "r": {
     "delete_cmd_postfix": ") ",
     "delete_cmd_prefix": "rm(",
     "library": "var_list.r",
     "varRefreshCmd": "cat(var_dic_list()) "
    }
   },
   "types_to_exclude": [
    "module",
    "function",
    "builtin_function_or_method",
    "instance",
    "_Feature"
   ],
   "window_display": false
  }
 },
 "nbformat": 4,
 "nbformat_minor": 5
}
