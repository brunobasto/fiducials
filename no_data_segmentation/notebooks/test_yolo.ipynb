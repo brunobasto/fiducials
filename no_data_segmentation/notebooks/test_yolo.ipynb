{
 "cells": [
  {
   "cell_type": "code",
   "execution_count": null,
   "id": "2e9033e5",
   "metadata": {},
   "outputs": [],
   "source": [
    "from ultralytics import YOLO"
   ]
  },
  {
   "cell_type": "code",
   "execution_count": null,
   "id": "99a3db04",
   "metadata": {},
   "outputs": [],
   "source": [
    "import cv2\n",
    "import numpy as np\n",
    "import matplotlib.pyplot as plt\n",
    "from PIL import Image, ImageDraw\n",
    "\n",
    "def polygon_to_mask(polygon, width, height):\n",
    "    img = Image.new('L', (width, height), 0)\n",
    "    ImageDraw.Draw(img).polygon(polygon, outline=1, fill=1)\n",
    "    mask = np.array(img)\n",
    "    return mask"
   ]
  },
  {
   "cell_type": "code",
   "execution_count": null,
   "id": "cd01259a",
   "metadata": {},
   "outputs": [],
   "source": [
    "model = YOLO('../assets/best.pt')"
   ]
  },
  {
   "cell_type": "code",
   "execution_count": null,
   "id": "67982171",
   "metadata": {},
   "outputs": [],
   "source": [
    "image = '../images/test_images/ruchindra-gunasekara-ekvhtYbFBXI-unsplash.jpg'\n",
    "res = model(image)"
   ]
  },
  {
   "cell_type": "code",
   "execution_count": null,
   "id": "678b0de5",
   "metadata": {},
   "outputs": [],
   "source": [
    "plt.imshow(res[0].orig_img)\n",
    "\n",
    "for xy in res[0].masks.xy:\n",
    "    mask = polygon_to_mask(xy, res[0].orig_shape[1], res[0].orig_shape[0])\n",
    "    plt.imshow(mask, alpha=0.3)"
   ]
  },
  {
   "cell_type": "code",
   "execution_count": null,
   "id": "18324c9b",
   "metadata": {},
   "outputs": [],
   "source": []
  }
 ],
 "metadata": {
  "kernelspec": {
   "display_name": "Python 3 (ipykernel)",
   "language": "python",
   "name": "python3"
  },
  "language_info": {
   "codemirror_mode": {
    "name": "ipython",
    "version": 3
   },
   "file_extension": ".py",
   "mimetype": "text/x-python",
   "name": "python",
   "nbconvert_exporter": "python",
   "pygments_lexer": "ipython3",
   "version": "3.10.6"
  },
  "varInspector": {
   "cols": {
    "lenName": 16,
    "lenType": 16,
    "lenVar": 40
   },
   "kernels_config": {
    "python": {
     "delete_cmd_postfix": "",
     "delete_cmd_prefix": "del ",
     "library": "var_list.py",
     "varRefreshCmd": "print(var_dic_list())"
    },
    "r": {
     "delete_cmd_postfix": ") ",
     "delete_cmd_prefix": "rm(",
     "library": "var_list.r",
     "varRefreshCmd": "cat(var_dic_list()) "
    }
   },
   "types_to_exclude": [
    "module",
    "function",
    "builtin_function_or_method",
    "instance",
    "_Feature"
   ],
   "window_display": false
  }
 },
 "nbformat": 4,
 "nbformat_minor": 5
}
