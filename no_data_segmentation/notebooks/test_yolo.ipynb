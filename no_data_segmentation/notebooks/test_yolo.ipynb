{
 "cells": [
  {
   "cell_type": "code",
   "execution_count": null,
   "id": "2e9033e5",
   "metadata": {},
   "outputs": [],
   "source": [
    "from glob import glob\n",
    "\n",
    "import cv2\n",
    "import numpy as np\n",
    "import matplotlib.pyplot as plt\n",
    "from PIL import Image, ImageDraw\n",
    "from ultralytics import YOLO"
   ]
  },
  {
   "cell_type": "code",
   "execution_count": null,
   "id": "99a3db04",
   "metadata": {},
   "outputs": [],
   "source": [
    "def polygon_to_mask(polygon, width, height):\n",
    "    img = Image.new('L', (width, height), 0)\n",
    "    ImageDraw.Draw(img).polygon(polygon, outline=1, fill=1)\n",
    "    mask = np.array(img)\n",
    "    return mask"
   ]
  },
  {
   "cell_type": "code",
   "execution_count": null,
   "id": "cd01259a",
   "metadata": {},
   "outputs": [],
   "source": [
    "model = YOLO('../runs/segment/train/weights/best.pt')"
   ]
  },
  {
   "cell_type": "code",
   "execution_count": null,
   "id": "67982171",
   "metadata": {},
   "outputs": [],
   "source": [
    "plt.figure(figsize=(14, 10))\n",
    "for i, image in enumerate(glob('../images/test_images/*')):\n",
    "    results = model(image, verbose=False)\n",
    "\n",
    "    plt.subplot(3, 3, i+1)\n",
    "    plt.imshow(cv2.cvtColor(results[0].orig_img, cv2.COLOR_BGR2RGB))\n",
    "    plt.axis('off')\n",
    "    for res in results:\n",
    "        object_class = int(res[0].boxes.cls.item())\n",
    "        for xy in res[0].masks.xy:\n",
    "            mask = polygon_to_mask(xy, res[0].orig_shape[1], res[0].orig_shape[0])\n",
    "            mask = np.repeat(np.expand_dims(mask, -1), 4, -1) * 255\n",
    "            mask[:, :, object_class%3] = 0\n",
    "            plt.imshow(mask, alpha=0.3)\n",
    "            plt.title(res[0].names[object_class])"
   ]
  },
  {
   "cell_type": "code",
   "execution_count": null,
   "id": "18324c9b",
   "metadata": {},
   "outputs": [],
   "source": []
  }
 ],
 "metadata": {
  "kernelspec": {
   "display_name": "Python 3 (ipykernel)",
   "language": "python",
   "name": "python3"
  },
  "language_info": {
   "codemirror_mode": {
    "name": "ipython",
    "version": 3
   },
   "file_extension": ".py",
   "mimetype": "text/x-python",
   "name": "python",
   "nbconvert_exporter": "python",
   "pygments_lexer": "ipython3",
   "version": "3.9.17"
  },
  "varInspector": {
   "cols": {
    "lenName": 16,
    "lenType": 16,
    "lenVar": 40
   },
   "kernels_config": {
    "python": {
     "delete_cmd_postfix": "",
     "delete_cmd_prefix": "del ",
     "library": "var_list.py",
     "varRefreshCmd": "print(var_dic_list())"
    },
    "r": {
     "delete_cmd_postfix": ") ",
     "delete_cmd_prefix": "rm(",
     "library": "var_list.r",
     "varRefreshCmd": "cat(var_dic_list()) "
    }
   },
   "types_to_exclude": [
    "module",
    "function",
    "builtin_function_or_method",
    "instance",
    "_Feature"
   ],
   "window_display": false
  }
 },
 "nbformat": 4,
 "nbformat_minor": 5
}
